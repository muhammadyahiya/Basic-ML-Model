{
  "nbformat": 4,
  "nbformat_minor": 0,
  "metadata": {
    "colab": {
      "name": "Untitled26.ipynb",
      "provenance": [],
      "authorship_tag": "ABX9TyM9Cwkzlh8ZJ2ys+aYNppgu",
      "include_colab_link": true
    },
    "kernelspec": {
      "name": "python3",
      "display_name": "Python 3"
    },
    "language_info": {
      "name": "python"
    }
  },
  "cells": [
    {
      "cell_type": "markdown",
      "metadata": {
        "id": "view-in-github",
        "colab_type": "text"
      },
      "source": [
        "<a href=\"https://colab.research.google.com/github/muhammadyahiya/Basic-ML-Model/blob/main/FashionMnist.ipynb\" target=\"_parent\"><img src=\"https://colab.research.google.com/assets/colab-badge.svg\" alt=\"Open In Colab\"/></a>"
      ]
    },
    {
      "cell_type": "code",
      "metadata": {
        "colab": {
          "base_uri": "https://localhost:8080/"
        },
        "id": "tYOzSe2GATJI",
        "outputId": "d2fd403f-ccd7-465b-d3b2-2c36785f634a"
      },
      "source": [
        "import tensorflow as tf\n",
        "print(tf.__version__)"
      ],
      "execution_count": 1,
      "outputs": [
        {
          "output_type": "stream",
          "text": [
            "2.4.1\n"
          ],
          "name": "stdout"
        }
      ]
    },
    {
      "cell_type": "code",
      "metadata": {
        "id": "d1XkmfYKAxLf"
      },
      "source": [
        "mnist = tf.keras.datasets.fashion_mnist"
      ],
      "execution_count": 3,
      "outputs": []
    },
    {
      "cell_type": "code",
      "metadata": {
        "colab": {
          "base_uri": "https://localhost:8080/"
        },
        "id": "VfLpfKzRB6zx",
        "outputId": "75d809d6-4809-4a51-d132-ffe4545026e7"
      },
      "source": [
        "(training_images, training_labels), (test_images, test_labels) = mnist.load_data()"
      ],
      "execution_count": 4,
      "outputs": [
        {
          "output_type": "stream",
          "text": [
            "Downloading data from https://storage.googleapis.com/tensorflow/tf-keras-datasets/train-labels-idx1-ubyte.gz\n",
            "32768/29515 [=================================] - 0s 0us/step\n",
            "Downloading data from https://storage.googleapis.com/tensorflow/tf-keras-datasets/train-images-idx3-ubyte.gz\n",
            "26427392/26421880 [==============================] - 0s 0us/step\n",
            "Downloading data from https://storage.googleapis.com/tensorflow/tf-keras-datasets/t10k-labels-idx1-ubyte.gz\n",
            "8192/5148 [===============================================] - 0s 0us/step\n",
            "Downloading data from https://storage.googleapis.com/tensorflow/tf-keras-datasets/t10k-images-idx3-ubyte.gz\n",
            "4423680/4422102 [==============================] - 0s 0us/step\n"
          ],
          "name": "stdout"
        }
      ]
    },
    {
      "cell_type": "code",
      "metadata": {
        "colab": {
          "base_uri": "https://localhost:8080/",
          "height": 1000
        },
        "id": "xummLhykCNbM",
        "outputId": "88d8e294-50e4-4bb9-a808-ae133c6c6485"
      },
      "source": [
        "import matplotlib.pyplot as plt\n",
        "plt.imshow(training_images[0])\n",
        "print(training_images[0])\n",
        "print(training_labels[0])"
      ],
      "execution_count": 28,
      "outputs": [
        {
          "output_type": "stream",
          "text": [
            "[[0.00000000e+00 0.00000000e+00 0.00000000e+00 0.00000000e+00\n",
            "  0.00000000e+00 0.00000000e+00 0.00000000e+00 0.00000000e+00\n",
            "  0.00000000e+00 0.00000000e+00 0.00000000e+00 0.00000000e+00\n",
            "  0.00000000e+00 0.00000000e+00 0.00000000e+00 0.00000000e+00\n",
            "  0.00000000e+00 0.00000000e+00 0.00000000e+00 0.00000000e+00\n",
            "  0.00000000e+00 0.00000000e+00 0.00000000e+00 0.00000000e+00\n",
            "  0.00000000e+00 0.00000000e+00 0.00000000e+00 0.00000000e+00]\n",
            " [0.00000000e+00 0.00000000e+00 0.00000000e+00 0.00000000e+00\n",
            "  0.00000000e+00 0.00000000e+00 0.00000000e+00 0.00000000e+00\n",
            "  0.00000000e+00 0.00000000e+00 0.00000000e+00 0.00000000e+00\n",
            "  0.00000000e+00 0.00000000e+00 0.00000000e+00 0.00000000e+00\n",
            "  0.00000000e+00 0.00000000e+00 0.00000000e+00 0.00000000e+00\n",
            "  0.00000000e+00 0.00000000e+00 0.00000000e+00 0.00000000e+00\n",
            "  0.00000000e+00 0.00000000e+00 0.00000000e+00 0.00000000e+00]\n",
            " [0.00000000e+00 0.00000000e+00 0.00000000e+00 0.00000000e+00\n",
            "  0.00000000e+00 0.00000000e+00 0.00000000e+00 0.00000000e+00\n",
            "  0.00000000e+00 0.00000000e+00 0.00000000e+00 0.00000000e+00\n",
            "  0.00000000e+00 0.00000000e+00 0.00000000e+00 0.00000000e+00\n",
            "  0.00000000e+00 0.00000000e+00 0.00000000e+00 0.00000000e+00\n",
            "  0.00000000e+00 0.00000000e+00 0.00000000e+00 0.00000000e+00\n",
            "  0.00000000e+00 0.00000000e+00 0.00000000e+00 0.00000000e+00]\n",
            " [0.00000000e+00 0.00000000e+00 0.00000000e+00 0.00000000e+00\n",
            "  0.00000000e+00 0.00000000e+00 0.00000000e+00 0.00000000e+00\n",
            "  0.00000000e+00 0.00000000e+00 0.00000000e+00 0.00000000e+00\n",
            "  1.53787005e-05 0.00000000e+00 0.00000000e+00 1.99923106e-04\n",
            "  1.12264514e-03 0.00000000e+00 0.00000000e+00 1.53787005e-05\n",
            "  6.15148020e-05 0.00000000e+00 0.00000000e+00 0.00000000e+00\n",
            "  0.00000000e+00 1.53787005e-05 1.53787005e-05 0.00000000e+00]\n",
            " [0.00000000e+00 0.00000000e+00 0.00000000e+00 0.00000000e+00\n",
            "  0.00000000e+00 0.00000000e+00 0.00000000e+00 0.00000000e+00\n",
            "  0.00000000e+00 0.00000000e+00 0.00000000e+00 0.00000000e+00\n",
            "  4.61361015e-05 0.00000000e+00 5.53633218e-04 2.09150327e-03\n",
            "  1.95309496e-03 9.53479431e-04 8.30449827e-04 0.00000000e+00\n",
            "  0.00000000e+00 0.00000000e+00 1.53787005e-05 4.61361015e-05\n",
            "  6.15148020e-05 0.00000000e+00 0.00000000e+00 4.61361015e-05]\n",
            " [0.00000000e+00 0.00000000e+00 0.00000000e+00 0.00000000e+00\n",
            "  0.00000000e+00 0.00000000e+00 0.00000000e+00 0.00000000e+00\n",
            "  0.00000000e+00 0.00000000e+00 0.00000000e+00 0.00000000e+00\n",
            "  9.22722030e-05 0.00000000e+00 1.56862745e-03 3.13725490e-03\n",
            "  2.70665129e-03 2.06074587e-03 2.21453287e-03 1.89158016e-03\n",
            "  3.53710111e-04 0.00000000e+00 0.00000000e+00 0.00000000e+00\n",
            "  0.00000000e+00 1.84544406e-04 1.53787005e-04 0.00000000e+00]\n",
            " [0.00000000e+00 0.00000000e+00 0.00000000e+00 0.00000000e+00\n",
            "  0.00000000e+00 0.00000000e+00 0.00000000e+00 0.00000000e+00\n",
            "  0.00000000e+00 0.00000000e+00 0.00000000e+00 0.00000000e+00\n",
            "  0.00000000e+00 0.00000000e+00 2.38369858e-03 3.62937332e-03\n",
            "  3.18339100e-03 2.73740869e-03 1.64552095e-03 2.39907728e-03\n",
            "  2.47597078e-03 1.67627835e-03 9.84236832e-04 3.53710111e-04\n",
            "  1.18415994e-03 1.99923106e-03 1.10726644e-03 2.30680507e-04]\n",
            " [0.00000000e+00 0.00000000e+00 0.00000000e+00 0.00000000e+00\n",
            "  0.00000000e+00 0.00000000e+00 0.00000000e+00 0.00000000e+00\n",
            "  0.00000000e+00 0.00000000e+00 0.00000000e+00 1.53787005e-05\n",
            "  0.00000000e+00 1.06113033e-03 3.18339100e-03 3.42945021e-03\n",
            "  3.35255671e-03 3.32179931e-03 3.32179931e-03 2.50672818e-03\n",
            "  1.95309496e-03 1.86082276e-03 1.87620146e-03 2.24529027e-03\n",
            "  2.16839677e-03 1.35332564e-03 2.64513649e-03 1.01499423e-03]\n",
            " [0.00000000e+00 0.00000000e+00 0.00000000e+00 0.00000000e+00\n",
            "  0.00000000e+00 0.00000000e+00 0.00000000e+00 0.00000000e+00\n",
            "  0.00000000e+00 1.53787005e-05 1.53787005e-05 1.53787005e-05\n",
            "  0.00000000e+00 3.07574010e-03 3.56785852e-03 3.56785852e-03\n",
            "  3.58323722e-03 3.52172241e-03 3.42945021e-03 3.42945021e-03\n",
            "  3.30642061e-03 3.27566321e-03 2.52210688e-03 1.95309496e-03\n",
            "  1.89158016e-03 3.01422530e-03 3.52172241e-03 0.00000000e+00]\n",
            " [0.00000000e+00 0.00000000e+00 0.00000000e+00 0.00000000e+00\n",
            "  0.00000000e+00 0.00000000e+00 0.00000000e+00 0.00000000e+00\n",
            "  0.00000000e+00 0.00000000e+00 0.00000000e+00 0.00000000e+00\n",
            "  0.00000000e+00 2.81430219e-03 3.46020761e-03 3.32179931e-03\n",
            "  3.42945021e-03 3.50634371e-03 3.61399462e-03 3.49096501e-03\n",
            "  3.44482891e-03 3.41407151e-03 3.44482891e-03 3.39869281e-03\n",
            "  3.42945021e-03 3.76778162e-03 2.66051519e-03 0.00000000e+00]\n",
            " [0.00000000e+00 0.00000000e+00 0.00000000e+00 0.00000000e+00\n",
            "  0.00000000e+00 0.00000000e+00 0.00000000e+00 0.00000000e+00\n",
            "  0.00000000e+00 0.00000000e+00 0.00000000e+00 0.00000000e+00\n",
            "  0.00000000e+00 2.96808920e-03 3.50634371e-03 3.35255671e-03\n",
            "  3.27566321e-03 3.04498270e-03 2.76816609e-03 3.26028451e-03\n",
            "  3.22952710e-03 3.24490581e-03 3.27566321e-03 3.42945021e-03\n",
            "  3.38331411e-03 3.73702422e-03 3.10649750e-03 0.00000000e+00]\n",
            " [0.00000000e+00 0.00000000e+00 0.00000000e+00 0.00000000e+00\n",
            "  0.00000000e+00 0.00000000e+00 0.00000000e+00 0.00000000e+00\n",
            "  0.00000000e+00 1.53787005e-05 4.61361015e-05 0.00000000e+00\n",
            "  1.84544406e-04 3.36793541e-03 3.38331411e-03 3.26028451e-03\n",
            "  3.35255671e-03 2.95271050e-03 2.59900038e-03 3.49096501e-03\n",
            "  3.19876970e-03 3.35255671e-03 3.44482891e-03 3.26028451e-03\n",
            "  3.47558631e-03 3.02960400e-03 3.21414840e-03 7.99692426e-04]\n",
            " [0.00000000e+00 0.00000000e+00 0.00000000e+00 0.00000000e+00\n",
            "  0.00000000e+00 0.00000000e+00 0.00000000e+00 0.00000000e+00\n",
            "  0.00000000e+00 0.00000000e+00 9.22722030e-05 0.00000000e+00\n",
            "  1.52249135e-03 3.75240292e-03 3.41407151e-03 3.38331411e-03\n",
            "  3.35255671e-03 3.12187620e-03 3.04498270e-03 3.39869281e-03\n",
            "  3.30642061e-03 3.27566321e-03 3.41407151e-03 3.38331411e-03\n",
            "  3.76778162e-03 1.83006536e-03 2.56824298e-03 8.61207228e-04]\n",
            " [0.00000000e+00 0.00000000e+00 0.00000000e+00 0.00000000e+00\n",
            "  0.00000000e+00 0.00000000e+00 0.00000000e+00 0.00000000e+00\n",
            "  0.00000000e+00 6.15148020e-05 0.00000000e+00 0.00000000e+00\n",
            "  8.45828527e-04 3.62937332e-03 3.50634371e-03 3.53710111e-03\n",
            "  3.50634371e-03 3.69088812e-03 3.56785852e-03 3.27566321e-03\n",
            "  3.35255671e-03 3.42945021e-03 3.59861592e-03 3.33717801e-03\n",
            "  3.33717801e-03 3.21414840e-03 1.41484045e-03 0.00000000e+00]\n",
            " [0.00000000e+00 0.00000000e+00 1.53787005e-05 6.15148020e-05\n",
            "  9.22722030e-05 1.07650903e-04 3.07574010e-05 0.00000000e+00\n",
            "  0.00000000e+00 0.00000000e+00 0.00000000e+00 0.00000000e+00\n",
            "  3.64475202e-03 3.47558631e-03 3.33717801e-03 3.42945021e-03\n",
            "  3.41407151e-03 3.36793541e-03 3.41407151e-03 3.39869281e-03\n",
            "  3.32179931e-03 3.42945021e-03 3.52172241e-03 3.30642061e-03\n",
            "  3.35255671e-03 3.92156863e-03 1.18415994e-03 0.00000000e+00]\n",
            " [0.00000000e+00 4.61361015e-05 0.00000000e+00 0.00000000e+00\n",
            "  0.00000000e+00 0.00000000e+00 0.00000000e+00 0.00000000e+00\n",
            "  0.00000000e+00 9.53479431e-04 2.22991157e-03 3.13725490e-03\n",
            "  3.50634371e-03 3.18339100e-03 3.27566321e-03 3.39869281e-03\n",
            "  3.35255671e-03 3.19876970e-03 3.24490581e-03 3.35255671e-03\n",
            "  3.44482891e-03 3.42945021e-03 3.36793541e-03 3.30642061e-03\n",
            "  3.44482891e-03 3.75240292e-03 2.44521338e-03 0.00000000e+00]\n",
            " [0.00000000e+00 0.00000000e+00 0.00000000e+00 0.00000000e+00\n",
            "  2.76816609e-04 6.76662822e-04 1.26105344e-03 1.64552095e-03\n",
            "  2.90657439e-03 3.50634371e-03 3.38331411e-03 3.41407151e-03\n",
            "  3.33717801e-03 3.47558631e-03 3.07574010e-03 3.15263360e-03\n",
            "  3.24490581e-03 3.53710111e-03 3.44482891e-03 3.59861592e-03\n",
            "  2.70665129e-03 2.89119569e-03 3.84467512e-03 3.81391772e-03\n",
            "  3.58323722e-03 3.66013072e-03 3.30642061e-03 0.00000000e+00]\n",
            " [0.00000000e+00 8.76585928e-04 2.87581699e-03 3.19876970e-03\n",
            "  3.44482891e-03 3.39869281e-03 3.44482891e-03 3.19876970e-03\n",
            "  3.13725490e-03 3.29104191e-03 3.19876970e-03 3.21414840e-03\n",
            "  3.07574010e-03 2.44521338e-03 3.76778162e-03 2.96808920e-03\n",
            "  3.16801230e-03 3.42945021e-03 3.92156863e-03 3.92156863e-03\n",
            "  3.39869281e-03 3.59861592e-03 3.39869281e-03 3.24490581e-03\n",
            "  3.38331411e-03 3.56785852e-03 3.78316032e-03 0.00000000e+00]\n",
            " [4.61361015e-05 3.10649750e-03 3.50634371e-03 3.44482891e-03\n",
            "  3.39869281e-03 3.24490581e-03 3.24490581e-03 3.29104191e-03\n",
            "  3.15263360e-03 3.15263360e-03 3.15263360e-03 3.38331411e-03\n",
            "  3.69088812e-03 1.23029604e-03 2.30680507e-03 3.92156863e-03\n",
            "  3.52172241e-03 3.39869281e-03 2.89119569e-03 2.36831988e-03\n",
            "  2.93733180e-03 3.22952710e-03 3.13725490e-03 3.21414840e-03\n",
            "  3.41407151e-03 3.50634371e-03 3.46020761e-03 0.00000000e+00]\n",
            " [1.50711265e-03 3.58323722e-03 3.04498270e-03 3.22952710e-03\n",
            "  3.41407151e-03 3.52172241e-03 3.52172241e-03 3.59861592e-03\n",
            "  3.82929642e-03 3.38331411e-03 2.98346790e-03 3.30642061e-03\n",
            "  3.33717801e-03 3.70626682e-03 9.99615532e-04 1.12264514e-03\n",
            "  1.63014225e-03 1.79930796e-03 2.58362168e-03 3.36793541e-03\n",
            "  3.39869281e-03 3.30642061e-03 3.33717801e-03 3.42945021e-03\n",
            "  3.42945021e-03 3.44482891e-03 3.52172241e-03 4.45982314e-04]\n",
            " [1.15340254e-03 3.13725490e-03 3.26028451e-03 3.13725490e-03\n",
            "  2.96808920e-03 3.15263360e-03 3.24490581e-03 3.46020761e-03\n",
            "  3.32179931e-03 2.84505959e-03 3.02960400e-03 3.16801230e-03\n",
            "  3.04498270e-03 3.27566321e-03 3.69088812e-03 2.99884660e-03\n",
            "  3.49096501e-03 3.76778162e-03 3.67550942e-03 3.42945021e-03\n",
            "  3.35255671e-03 3.26028451e-03 3.21414840e-03 3.41407151e-03\n",
            "  3.38331411e-03 3.39869281e-03 3.53710111e-03 1.03037293e-03]\n",
            " [7.38177624e-04 3.12187620e-03 2.81430219e-03 2.98346790e-03\n",
            "  3.27566321e-03 3.02960400e-03 2.84505959e-03 2.92195309e-03\n",
            "  2.98346790e-03 2.95271050e-03 3.10649750e-03 3.29104191e-03\n",
            "  3.36793541e-03 3.39869281e-03 3.38331411e-03 3.62937332e-03\n",
            "  3.46020761e-03 3.32179931e-03 3.06036140e-03 3.16801230e-03\n",
            "  2.86043829e-03 2.78354479e-03 2.72202999e-03 2.64513649e-03\n",
            "  2.78354479e-03 3.15263360e-03 3.16801230e-03 1.76855056e-03]\n",
            " [0.00000000e+00 1.87620146e-03 3.36793541e-03 2.96808920e-03\n",
            "  2.75278739e-03 2.62975779e-03 2.81430219e-03 3.01422530e-03\n",
            "  3.13725490e-03 3.22952710e-03 3.27566321e-03 3.18339100e-03\n",
            "  3.24490581e-03 3.22952710e-03 3.07574010e-03 3.01422530e-03\n",
            "  2.98346790e-03 2.93733180e-03 2.99884660e-03 2.93733180e-03\n",
            "  3.04498270e-03 2.95271050e-03 2.70665129e-03 2.39907728e-03\n",
            "  2.56824298e-03 2.72202999e-03 3.22952710e-03 1.41484045e-03]\n",
            " [0.00000000e+00 0.00000000e+00 1.13802384e-03 2.90657439e-03\n",
            "  3.26028451e-03 2.93733180e-03 2.69127259e-03 2.64513649e-03\n",
            "  2.69127259e-03 2.78354479e-03 2.84505959e-03 2.89119569e-03\n",
            "  2.90657439e-03 2.89119569e-03 2.96808920e-03 3.04498270e-03\n",
            "  3.13725490e-03 3.21414840e-03 3.22952710e-03 3.22952710e-03\n",
            "  3.24490581e-03 2.89119569e-03 2.89119569e-03 2.98346790e-03\n",
            "  2.95271050e-03 3.32179931e-03 2.61437908e-03 0.00000000e+00]\n",
            " [3.07574010e-05 0.00000000e+00 0.00000000e+00 0.00000000e+00\n",
            "  1.01499423e-03 3.07574010e-03 3.41407151e-03 3.64475202e-03\n",
            "  3.67550942e-03 3.72164552e-03 3.78316032e-03 3.73702422e-03\n",
            "  3.75240292e-03 3.39869281e-03 3.38331411e-03 2.96808920e-03\n",
            "  2.93733180e-03 2.75278739e-03 2.79892349e-03 2.79892349e-03\n",
            "  2.78354479e-03 2.70665129e-03 2.55286428e-03 2.58362168e-03\n",
            "  1.52249135e-03 8.91964629e-04 0.00000000e+00 0.00000000e+00]\n",
            " [0.00000000e+00 0.00000000e+00 0.00000000e+00 0.00000000e+00\n",
            "  0.00000000e+00 0.00000000e+00 0.00000000e+00 6.15148020e-04\n",
            "  9.38100730e-04 6.76662822e-04 1.10726644e-03 6.30526720e-04\n",
            "  5.38254517e-04 0.00000000e+00 0.00000000e+00 0.00000000e+00\n",
            "  0.00000000e+00 0.00000000e+00 0.00000000e+00 0.00000000e+00\n",
            "  0.00000000e+00 0.00000000e+00 0.00000000e+00 0.00000000e+00\n",
            "  0.00000000e+00 0.00000000e+00 0.00000000e+00 0.00000000e+00]\n",
            " [0.00000000e+00 0.00000000e+00 0.00000000e+00 0.00000000e+00\n",
            "  0.00000000e+00 0.00000000e+00 0.00000000e+00 0.00000000e+00\n",
            "  0.00000000e+00 0.00000000e+00 0.00000000e+00 0.00000000e+00\n",
            "  0.00000000e+00 0.00000000e+00 0.00000000e+00 0.00000000e+00\n",
            "  0.00000000e+00 0.00000000e+00 0.00000000e+00 0.00000000e+00\n",
            "  0.00000000e+00 0.00000000e+00 0.00000000e+00 0.00000000e+00\n",
            "  0.00000000e+00 0.00000000e+00 0.00000000e+00 0.00000000e+00]\n",
            " [0.00000000e+00 0.00000000e+00 0.00000000e+00 0.00000000e+00\n",
            "  0.00000000e+00 0.00000000e+00 0.00000000e+00 0.00000000e+00\n",
            "  0.00000000e+00 0.00000000e+00 0.00000000e+00 0.00000000e+00\n",
            "  0.00000000e+00 0.00000000e+00 0.00000000e+00 0.00000000e+00\n",
            "  0.00000000e+00 0.00000000e+00 0.00000000e+00 0.00000000e+00\n",
            "  0.00000000e+00 0.00000000e+00 0.00000000e+00 0.00000000e+00\n",
            "  0.00000000e+00 0.00000000e+00 0.00000000e+00 0.00000000e+00]]\n",
            "9\n"
          ],
          "name": "stdout"
        },
        {
          "output_type": "display_data",
          "data": {
            "image/png": "[encoded data removed]",
            "text/plain": [
              "<Figure size 432x288 with 1 Axes>"
            ]
          },
          "metadata": {
            "tags": [],
            "needs_background": "light"
          }
        }
      ]
    },
    {
      "cell_type": "code",
      "metadata": {
        "id": "-gWVS4j-Cy-H"
      },
      "source": [
        "training_images /= 255.0\n",
        "test_images /= 255.0"
      ],
      "execution_count": 45,
      "outputs": []
    },
    {
      "cell_type": "code",
      "metadata": {
        "id": "yueIXvQJbycq"
      },
      "source": [
        "model = tf.keras.models.Sequential([tf.keras.layers.Flatten(), \n",
        "                                    tf.keras.layers.Dense(128, activation=tf.nn.relu), \n",
        "                                    tf.keras.layers.Dense(10, activation=tf.nn.softmax)])"
      ],
      "execution_count": 36,
      "outputs": []
    },
    {
      "cell_type": "code",
      "metadata": {
        "colab": {
          "base_uri": "https://localhost:8080/"
        },
        "id": "U9TrPmlfb4BN",
        "outputId": "29f8bb59-d6eb-4dfb-9806-3d22ab14467a"
      },
      "source": [
        "model.compile(optimizer = tf.keras.optimizers.Adam(),\n",
        "              loss = 'sparse_categorical_crossentropy',\n",
        "              metrics=['accuracy'])\n",
        "\n",
        "model.fit(training_images, training_labels, epochs=20)"
      ],
      "execution_count": 39,
      "outputs": [
        {
          "output_type": "stream",
          "text": [
            "Epoch 1/20\n",
            "1875/1875 [==============================] - 4s 2ms/step - loss: 2.2113 - accuracy: 0.3307\n",
            "Epoch 2/20\n",
            "1875/1875 [==============================] - 3s 2ms/step - loss: 2.1642 - accuracy: 0.3415\n",
            "Epoch 3/20\n",
            "1875/1875 [==============================] - 3s 2ms/step - loss: 2.1091 - accuracy: 0.3795\n",
            "Epoch 4/20\n",
            "1875/1875 [==============================] - 3s 2ms/step - loss: 2.0519 - accuracy: 0.3689\n",
            "Epoch 5/20\n",
            "1875/1875 [==============================] - 3s 2ms/step - loss: 1.9931 - accuracy: 0.3984\n",
            "Epoch 6/20\n",
            "1875/1875 [==============================] - 4s 2ms/step - loss: 1.9373 - accuracy: 0.4097\n",
            "Epoch 7/20\n",
            "1875/1875 [==============================] - 3s 2ms/step - loss: 1.8825 - accuracy: 0.4154\n",
            "Epoch 8/20\n",
            "1875/1875 [==============================] - 3s 2ms/step - loss: 1.8264 - accuracy: 0.4175\n",
            "Epoch 9/20\n",
            "1875/1875 [==============================] - 3s 2ms/step - loss: 1.7781 - accuracy: 0.4235\n",
            "Epoch 10/20\n",
            "1875/1875 [==============================] - 3s 2ms/step - loss: 1.7335 - accuracy: 0.4333\n",
            "Epoch 11/20\n",
            "1875/1875 [==============================] - 3s 2ms/step - loss: 1.6872 - accuracy: 0.4376\n",
            "Epoch 12/20\n",
            "1875/1875 [==============================] - 3s 2ms/step - loss: 1.6431 - accuracy: 0.4405\n",
            "Epoch 13/20\n",
            "1875/1875 [==============================] - 3s 2ms/step - loss: 1.6029 - accuracy: 0.4436\n",
            "Epoch 14/20\n",
            "1875/1875 [==============================] - 3s 2ms/step - loss: 1.5701 - accuracy: 0.4523\n",
            "Epoch 15/20\n",
            "1875/1875 [==============================] - 3s 2ms/step - loss: 1.5350 - accuracy: 0.4608\n",
            "Epoch 16/20\n",
            "1875/1875 [==============================] - 3s 2ms/step - loss: 1.5028 - accuracy: 0.4754\n",
            "Epoch 17/20\n",
            "1875/1875 [==============================] - 3s 2ms/step - loss: 1.4722 - accuracy: 0.4669\n",
            "Epoch 18/20\n",
            "1875/1875 [==============================] - 3s 2ms/step - loss: 1.4453 - accuracy: 0.4728\n",
            "Epoch 19/20\n",
            "1875/1875 [==============================] - 3s 2ms/step - loss: 1.4223 - accuracy: 0.4756\n",
            "Epoch 20/20\n",
            "1875/1875 [==============================] - 3s 2ms/step - loss: 1.3983 - accuracy: 0.4897\n"
          ],
          "name": "stdout"
        },
        {
          "output_type": "execute_result",
          "data": {
            "text/plain": [
              "<tensorflow.python.keras.callbacks.History at 0x7fe530ebc510>"
            ]
          },
          "metadata": {
            "tags": []
          },
          "execution_count": 39
        }
      ]
    },
    {
      "cell_type": "code",
      "metadata": {
        "colab": {
          "base_uri": "https://localhost:8080/"
        },
        "id": "SieT0I2AcE2L",
        "outputId": "e5356ba4-15fb-432c-e06a-ff8c2a45d83d"
      },
      "source": [
        "model.evaluate(test_images, test_labels)"
      ],
      "execution_count": 40,
      "outputs": [
        {
          "output_type": "stream",
          "text": [
            "313/313 [==============================] - 0s 1ms/step - loss: 1.3850 - accuracy: 0.4907\n"
          ],
          "name": "stdout"
        },
        {
          "output_type": "execute_result",
          "data": {
            "text/plain": [
              "[1.3849799633026123, 0.49070000648498535]"
            ]
          },
          "metadata": {
            "tags": []
          },
          "execution_count": 40
        }
      ]
    },
    {
      "cell_type": "code",
      "metadata": {
        "colab": {
          "base_uri": "https://localhost:8080/"
        },
        "id": "whK8S_jcciku",
        "outputId": "3e1776a3-d0f5-4eb9-ed73-f983aa4575c4"
      },
      "source": [
        "classifications = model.predict(test_images)\n",
        "\n",
        "print(classifications[0])"
      ],
      "execution_count": 41,
      "outputs": [
        {
          "output_type": "stream",
          "text": [
            "[0.00133305 0.00072132 0.01311468 0.00160868 0.00826323 0.29668763\n",
            " 0.01339721 0.34983045 0.10122675 0.21381702]\n"
          ],
          "name": "stdout"
        }
      ]
    },
    {
      "cell_type": "code",
      "metadata": {
        "colab": {
          "base_uri": "https://localhost:8080/"
        },
        "id": "sJduRBnQcpln",
        "outputId": "97f5dbe4-8871-4019-cd94-8dfdb0db6c66"
      },
      "source": [
        "print(test_labels[0])"
      ],
      "execution_count": 42,
      "outputs": [
        {
          "output_type": "stream",
          "text": [
            "9\n"
          ],
          "name": "stdout"
        }
      ]
    }
  ]
}